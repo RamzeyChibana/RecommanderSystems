{
  "cells": [
    {
      "cell_type": "code",
      "execution_count": 12,
      "metadata": {
        "id": "mXJnSgC77Gcw"
      },
      "outputs": [],
      "source": [
        "import tensorflow as tf\n",
        "from keras import layers\n",
        "import numpy as np\n",
        "import pandas as pd\n",
        "from sklearn.model_selection import train_test_split\n",
        "import os\n",
        "import matplotlib.pyplot as plt\n",
        "from tqdm import tqdm"
      ]
    },
    {
      "cell_type": "code",
      "execution_count": 13,
      "metadata": {
        "id": "FAD4DCfX7Gcy"
      },
      "outputs": [],
      "source": [
        "DATA_DIR = \"../Data/\"\n",
        "MODEL = \"../DeepModels/\"\n",
        "LR = 0.001\n",
        "BATCH_SIZE = 1024\n"
      ]
    },
    {
      "cell_type": "code",
      "execution_count": 14,
      "metadata": {
        "colab": {
          "base_uri": "https://localhost:8080/",
          "height": 206
        },
        "id": "md9Qi4NB7Gcz",
        "outputId": "59e004c5-8d1c-4057-de3b-6bead401c6b2"
      },
      "outputs": [
        {
          "data": {
            "text/html": [
              "<div>\n",
              "<style scoped>\n",
              "    .dataframe tbody tr th:only-of-type {\n",
              "        vertical-align: middle;\n",
              "    }\n",
              "\n",
              "    .dataframe tbody tr th {\n",
              "        vertical-align: top;\n",
              "    }\n",
              "\n",
              "    .dataframe thead th {\n",
              "        text-align: right;\n",
              "    }\n",
              "</style>\n",
              "<table border=\"1\" class=\"dataframe\">\n",
              "  <thead>\n",
              "    <tr style=\"text-align: right;\">\n",
              "      <th></th>\n",
              "      <th>user_id</th>\n",
              "      <th>movie_id</th>\n",
              "      <th>rating</th>\n",
              "      <th>timestamp</th>\n",
              "    </tr>\n",
              "  </thead>\n",
              "  <tbody>\n",
              "    <tr>\n",
              "      <th>0</th>\n",
              "      <td>1</td>\n",
              "      <td>1193</td>\n",
              "      <td>5</td>\n",
              "      <td>978300760</td>\n",
              "    </tr>\n",
              "    <tr>\n",
              "      <th>1</th>\n",
              "      <td>1</td>\n",
              "      <td>661</td>\n",
              "      <td>3</td>\n",
              "      <td>978302109</td>\n",
              "    </tr>\n",
              "    <tr>\n",
              "      <th>2</th>\n",
              "      <td>1</td>\n",
              "      <td>914</td>\n",
              "      <td>3</td>\n",
              "      <td>978301968</td>\n",
              "    </tr>\n",
              "    <tr>\n",
              "      <th>3</th>\n",
              "      <td>1</td>\n",
              "      <td>3408</td>\n",
              "      <td>4</td>\n",
              "      <td>978300275</td>\n",
              "    </tr>\n",
              "    <tr>\n",
              "      <th>4</th>\n",
              "      <td>1</td>\n",
              "      <td>2355</td>\n",
              "      <td>5</td>\n",
              "      <td>978824291</td>\n",
              "    </tr>\n",
              "  </tbody>\n",
              "</table>\n",
              "</div>"
            ],
            "text/plain": [
              "   user_id  movie_id  rating  timestamp\n",
              "0        1      1193       5  978300760\n",
              "1        1       661       3  978302109\n",
              "2        1       914       3  978301968\n",
              "3        1      3408       4  978300275\n",
              "4        1      2355       5  978824291"
            ]
          },
          "execution_count": 14,
          "metadata": {},
          "output_type": "execute_result"
        }
      ],
      "source": [
        "Users_df = pd.read_csv(os.path.join(DATA_DIR,\"users.csv\"),engine=\"python\",sep=\"\\t\",encoding=\"latin-1\")\n",
        "Users_df.head()\n",
        "\n",
        "Movies_df = pd.read_csv(os.path.join(DATA_DIR,\"movies.csv\"),engine=\"python\",sep=\"\\t\",encoding=\"latin-1\")\n",
        "Users_df.head()\n",
        "\n",
        "Ratings_df = pd.read_csv(os.path.join(DATA_DIR,\"ratings.csv\"),engine=\"python\",sep=\"\\t\",encoding=\"latin-1\")\n",
        "Ratings_df.head()\n"
      ]
    },
    {
      "cell_type": "code",
      "execution_count": 15,
      "metadata": {
        "colab": {
          "base_uri": "https://localhost:8080/"
        },
        "id": "70RYRVuP7Gc0",
        "outputId": "ef78de01-9c78-4b93-d2fe-43620ec635f0"
      },
      "outputs": [
        {
          "name": "stdout",
          "output_type": "stream",
          "text": [
            "max user id is : 6040\n",
            "max movie id is : 3952\n"
          ]
        }
      ],
      "source": [
        "max_user_id = Ratings_df[\"user_id\"].max()\n",
        "max_movie_id = Ratings_df[\"movie_id\"].max()\n",
        "\n",
        "Ratings_df[\"user_emb\"] = Ratings_df[\"user_id\"].apply(lambda x:x-1)\n",
        "Ratings_df[\"movie_emb\"] = Ratings_df[\"movie_id\"].apply(lambda x:x-1)\n",
        "\n",
        "print(f\"max user id is : {max_user_id}\")\n",
        "print(f\"max movie id is : {max_movie_id}\")"
      ]
    },
    {
      "cell_type": "code",
      "execution_count": 16,
      "metadata": {
        "colab": {
          "base_uri": "https://localhost:8080/"
        },
        "id": "CKy2qKOF7Gc0",
        "outputId": "68ac58d6-0aeb-4039-e279-ab7cd5a5b1fc"
      },
      "outputs": [
        {
          "name": "stdout",
          "output_type": "stream",
          "text": [
            "train users :(900188,)\n",
            "train movies :(900188,)\n",
            "\n",
            "val users :(100021,)\n",
            "val moives :(100021,)\n"
          ]
        }
      ],
      "source": [
        "train_sample , val_sample = train_test_split(Ratings_df,test_size=0.1,random_state=18)\n",
        "\n",
        "train_Users = train_sample[\"user_emb\"].values\n",
        "train_Movies = train_sample[\"movie_emb\"].values\n",
        "train_rating = train_sample[\"rating\"].values\n",
        "\n",
        "val_Users=val_sample[\"user_emb\"].values\n",
        "val_Movies=val_sample[\"movie_emb\"].values\n",
        "val_rating = val_sample[\"rating\"].values\n",
        "\n",
        "print(f\"train users :{train_Users.shape}\")\n",
        "print(f\"train movies :{train_Movies.shape}\")\n",
        "print(f\"\\nval users :{val_Users.shape}\")\n",
        "print(f\"val moives :{val_Movies.shape}\")"
      ]
    },
    {
      "cell_type": "code",
      "execution_count": 17,
      "metadata": {
        "id": "w0ch2LrL7Gc0"
      },
      "outputs": [],
      "source": [
        "def load_dataset(user,movie,rating):\n",
        "    user = tf.convert_to_tensor(user)\n",
        "    movie = tf.convert_to_tensor(movie)\n",
        "    rating = tf.convert_to_tensor(rating)\n",
        "\n",
        "    return (user,movie),rating\n",
        "\n",
        "def tfData(user,movie,rating):\n",
        "    ds = tf.data.Dataset.from_tensor_slices((user,movie,rating))\n",
        "    ds = ds.map(load_dataset,num_parallel_calls=tf.data.AUTOTUNE)\n",
        "    ds = ds.batch(BATCH_SIZE)\n",
        "    ds = ds.cache()\n",
        "    ds = ds.prefetch(tf.data.AUTOTUNE)\n",
        "    return ds\n",
        "\n",
        "\n",
        "train_ds = tfData(train_Users,train_Movies,train_rating)\n",
        "val_ds = tfData(val_Users,val_Movies,val_rating)\n",
        "\n"
      ]
    },
    {
      "cell_type": "code",
      "execution_count": 18,
      "metadata": {
        "colab": {
          "base_uri": "https://localhost:8080/"
        },
        "id": "JIs6Nq6_qvZg",
        "outputId": "d2e70579-037e-4469-bfd2-83953676f220"
      },
      "outputs": [
        {
          "name": "stdout",
          "output_type": "stream",
          "text": [
            "1024\n",
            "1024\n",
            "1024\n"
          ]
        }
      ],
      "source": [
        "ds = train_ds.take(3)\n",
        "for (user,movie),rating in ds:\n",
        "    print(user.shape[0])\n"
      ]
    },
    {
      "cell_type": "code",
      "execution_count": 19,
      "metadata": {
        "colab": {
          "base_uri": "https://localhost:8080/"
        },
        "id": "zcI29NBQ7Gc1",
        "outputId": "a8c09b6e-1b23-4c70-ddd1-173ade935d1a"
      },
      "outputs": [
        {
          "name": "stdout",
          "output_type": "stream",
          "text": [
            "(1024,)\n",
            "(1024,)\n"
          ]
        }
      ],
      "source": [
        "class Network(tf.keras.Model):\n",
        "    def __init__(self,n_users,n_movies,factors_dim,reg_c = 1.0):\n",
        "\n",
        "        super(Network,self).__init__()\n",
        "\n",
        "        self.n_users = n_users\n",
        "        self.n_movies = n_movies\n",
        "        self.factors_dim = factors_dim\n",
        "        self.reg_c = reg_c\n",
        "\n",
        "        self.users_em = layers.Embedding(n_users,factors_dim)\n",
        "        self.movies_em = layers.Embedding(n_movies,factors_dim)\n",
        "\n",
        "    def call(self,inputs):\n",
        "        users_id,movies_id = inputs\n",
        "\n",
        "\n",
        "        users= self.users_em(users_id)\n",
        "        movies = self.movies_em(movies_id)\n",
        "\n",
        "        result = tf.reduce_sum(users * movies,axis = 1)\n",
        "\n",
        "\n",
        "        return result\n",
        "\n",
        "model = Network(max_user_id,max_movie_id,100)\n",
        "\n",
        "\n",
        "ds = train_ds.take(1)\n",
        "\n",
        "for x,y in ds :\n",
        "    print(model(x).shape)\n",
        "    print(y.shape)\n"
      ]
    },
    {
      "cell_type": "code",
      "execution_count": 20,
      "metadata": {
        "id": "-RSucZZS7Gc1"
      },
      "outputs": [],
      "source": [
        "def train(epochs,train_name=\"train\"):\n",
        "\n",
        "    loss_history = []\n",
        "    val_loss_history = []\n",
        "\n",
        "    best_val = np.inf \n",
        "    num_epochs = epochs\n",
        "    optimizer = tf.keras.optimizers.Adam(learning_rate=LR)\n",
        "    loss_fucntion = tf.keras.losses.MeanSquaredError()\n",
        "\n",
        "\n",
        "    for epoch in range(num_epochs):\n",
        "        epoch_loss = []\n",
        "        epoch_val_loss = []\n",
        "        pbar = tqdm(total = train_Users.shape[0])\n",
        "        pbar.set_description(f\"Epoch {epoch}:\")\n",
        "\n",
        "        for idx,batch in enumerate(train_ds):\n",
        "            (users_id,movies_id),targets = batch\n",
        "            with tf.GradientTape() as tape :\n",
        "                out = model([users_id,movies_id])\n",
        "                loss = loss_fucntion(y_true=targets,y_pred=out)\n",
        "            gradients = tape.gradient(loss,model.trainable_variables)\n",
        "            optimizer.apply_gradients(zip(gradients,model.trainable_variables))\n",
        "            epoch_loss.append(loss)\n",
        "            pbar.update(users_id.shape[0])\n",
        "        pbar.close()\n",
        "        for idx , val_batch in enumerate(val_ds):\n",
        "            (users_id,movies_id),targets = val_batch\n",
        "            out = model([users_id,movies_id])\n",
        "            val_loss = loss_fucntion(y_true=targets,y_pred=out)\n",
        "\n",
        "            epoch_val_loss.append(val_loss)\n",
        "        \n",
        "\n",
        "        epoch_mse = np.array(epoch_loss).mean()\n",
        "        epoch_val_mse = np.array(epoch_val_loss).mean()\n",
        "\n",
        "        print(f\"Epoch {epoch} Mse:{epoch_mse:.3f},Rmse:{np.sqrt(epoch_mse):.3f} | val_mse:{epoch_val_mse:.3f},val_rmse:{np.sqrt(epoch_val_mse):.3f}\")\n",
        "        if epoch_val_mse < best_val:\n",
        "            model.save(os.path.join(MODEL,\"MatrixFactorization\"))\n",
        "            best_val = epoch_val_mse\n",
        "\n",
        "        loss_history.append(epoch_mse)\n",
        "        val_loss_history.append(epoch_val_mse)\n",
        "    data = {\n",
        "        \"epoch\":[i for i in range(num_epochs)],\n",
        "        \"loss\":loss_history,\n",
        "        \"val_loss\":val_loss_history\n",
        "            }\n",
        "    history_df = pd.DataFrame(data)\n",
        "    return history_df"
      ]
    },
    {
      "cell_type": "code",
      "execution_count": 21,
      "metadata": {
        "colab": {
          "base_uri": "https://localhost:8080/",
          "height": 1000
        },
        "id": "K_mV9px15385",
        "outputId": "0269d522-36b2-455f-af86-a408e1b4e234"
      },
      "outputs": [
        {
          "name": "stderr",
          "output_type": "stream",
          "text": [
            "Epoch 0:: 100%|██████████| 900188/900188 [00:35<00:00, 25210.28it/s]\n"
          ]
        },
        {
          "name": "stdout",
          "output_type": "stream",
          "text": [
            "Epoch 0 Mse:6.544,Rmse:2.558 | val_mse:1.002,val_rmse:1.001\n",
            "INFO:tensorflow:Assets written to: ../DeepModels/MatrixFactorization\\assets\n"
          ]
        },
        {
          "name": "stderr",
          "output_type": "stream",
          "text": [
            "Epoch 1:: 100%|██████████| 900188/900188 [00:28<00:00, 31484.10it/s]\n"
          ]
        },
        {
          "name": "stdout",
          "output_type": "stream",
          "text": [
            "Epoch 1 Mse:0.883,Rmse:0.939 | val_mse:0.846,val_rmse:0.920\n",
            "INFO:tensorflow:Assets written to: ../DeepModels/MatrixFactorization\\assets\n"
          ]
        },
        {
          "name": "stderr",
          "output_type": "stream",
          "text": [
            "Epoch 2:: 100%|██████████| 900188/900188 [00:31<00:00, 28963.19it/s]\n"
          ]
        },
        {
          "name": "stdout",
          "output_type": "stream",
          "text": [
            "Epoch 2 Mse:0.805,Rmse:0.897 | val_mse:0.801,val_rmse:0.895\n",
            "INFO:tensorflow:Assets written to: ../DeepModels/MatrixFactorization\\assets\n"
          ]
        },
        {
          "name": "stderr",
          "output_type": "stream",
          "text": [
            "Epoch 3:: 100%|██████████| 900188/900188 [00:29<00:00, 30147.73it/s]\n"
          ]
        },
        {
          "name": "stdout",
          "output_type": "stream",
          "text": [
            "Epoch 3 Mse:0.754,Rmse:0.868 | val_mse:0.775,val_rmse:0.880\n",
            "INFO:tensorflow:Assets written to: ../DeepModels/MatrixFactorization\\assets\n"
          ]
        },
        {
          "name": "stderr",
          "output_type": "stream",
          "text": [
            "Epoch 4:: 100%|██████████| 900188/900188 [00:35<00:00, 25467.80it/s]\n"
          ]
        },
        {
          "name": "stdout",
          "output_type": "stream",
          "text": [
            "Epoch 4 Mse:0.714,Rmse:0.845 | val_mse:0.760,val_rmse:0.872\n",
            "INFO:tensorflow:Assets written to: ../DeepModels/MatrixFactorization\\assets\n"
          ]
        },
        {
          "name": "stderr",
          "output_type": "stream",
          "text": [
            "Epoch 5:: 100%|██████████| 900188/900188 [00:33<00:00, 26769.43it/s]\n"
          ]
        },
        {
          "name": "stdout",
          "output_type": "stream",
          "text": [
            "Epoch 5 Mse:0.678,Rmse:0.823 | val_mse:0.749,val_rmse:0.865\n",
            "INFO:tensorflow:Assets written to: ../DeepModels/MatrixFactorization\\assets\n"
          ]
        },
        {
          "name": "stderr",
          "output_type": "stream",
          "text": [
            "Epoch 6:: 100%|██████████| 900188/900188 [00:30<00:00, 29581.28it/s]\n"
          ]
        },
        {
          "name": "stdout",
          "output_type": "stream",
          "text": [
            "Epoch 6 Mse:0.640,Rmse:0.800 | val_mse:0.742,val_rmse:0.861\n",
            "INFO:tensorflow:Assets written to: ../DeepModels/MatrixFactorization\\assets\n"
          ]
        },
        {
          "name": "stderr",
          "output_type": "stream",
          "text": [
            "Epoch 7:: 100%|██████████| 900188/900188 [00:40<00:00, 22010.63it/s]\n"
          ]
        },
        {
          "name": "stdout",
          "output_type": "stream",
          "text": [
            "Epoch 7 Mse:0.601,Rmse:0.775 | val_mse:0.739,val_rmse:0.859\n",
            "INFO:tensorflow:Assets written to: ../DeepModels/MatrixFactorization\\assets\n"
          ]
        },
        {
          "name": "stderr",
          "output_type": "stream",
          "text": [
            "Epoch 8:: 100%|██████████| 900188/900188 [00:41<00:00, 21945.81it/s]\n"
          ]
        },
        {
          "name": "stdout",
          "output_type": "stream",
          "text": [
            "Epoch 8 Mse:0.560,Rmse:0.748 | val_mse:0.740,val_rmse:0.860\n"
          ]
        },
        {
          "name": "stderr",
          "output_type": "stream",
          "text": [
            "Epoch 9:: 100%|██████████| 900188/900188 [00:36<00:00, 24724.07it/s]\n"
          ]
        },
        {
          "name": "stdout",
          "output_type": "stream",
          "text": [
            "Epoch 9 Mse:0.518,Rmse:0.720 | val_mse:0.745,val_rmse:0.863\n"
          ]
        },
        {
          "name": "stderr",
          "output_type": "stream",
          "text": [
            "Epoch 10:: 100%|██████████| 900188/900188 [00:34<00:00, 26032.79it/s]\n"
          ]
        },
        {
          "name": "stdout",
          "output_type": "stream",
          "text": [
            "Epoch 10 Mse:0.476,Rmse:0.690 | val_mse:0.754,val_rmse:0.868\n"
          ]
        },
        {
          "name": "stderr",
          "output_type": "stream",
          "text": [
            "Epoch 11:: 100%|██████████| 900188/900188 [00:33<00:00, 26491.81it/s]\n"
          ]
        },
        {
          "name": "stdout",
          "output_type": "stream",
          "text": [
            "Epoch 11 Mse:0.436,Rmse:0.660 | val_mse:0.767,val_rmse:0.876\n"
          ]
        },
        {
          "name": "stderr",
          "output_type": "stream",
          "text": [
            "Epoch 12:: 100%|██████████| 900188/900188 [00:30<00:00, 29701.46it/s]\n"
          ]
        },
        {
          "name": "stdout",
          "output_type": "stream",
          "text": [
            "Epoch 12 Mse:0.399,Rmse:0.631 | val_mse:0.783,val_rmse:0.885\n"
          ]
        },
        {
          "name": "stderr",
          "output_type": "stream",
          "text": [
            "Epoch 13:: 100%|██████████| 900188/900188 [00:30<00:00, 29463.63it/s]\n"
          ]
        },
        {
          "name": "stdout",
          "output_type": "stream",
          "text": [
            "Epoch 13 Mse:0.366,Rmse:0.605 | val_mse:0.802,val_rmse:0.895\n"
          ]
        },
        {
          "name": "stderr",
          "output_type": "stream",
          "text": [
            "Epoch 14:: 100%|██████████| 900188/900188 [00:30<00:00, 29830.85it/s]\n"
          ]
        },
        {
          "name": "stdout",
          "output_type": "stream",
          "text": [
            "Epoch 14 Mse:0.337,Rmse:0.580 | val_mse:0.821,val_rmse:0.906\n"
          ]
        },
        {
          "name": "stderr",
          "output_type": "stream",
          "text": [
            "Epoch 15:: 100%|██████████| 900188/900188 [00:29<00:00, 30282.24it/s]\n"
          ]
        },
        {
          "name": "stdout",
          "output_type": "stream",
          "text": [
            "Epoch 15 Mse:0.312,Rmse:0.559 | val_mse:0.842,val_rmse:0.918\n"
          ]
        },
        {
          "name": "stderr",
          "output_type": "stream",
          "text": [
            "Epoch 16:: 100%|██████████| 900188/900188 [00:33<00:00, 26966.18it/s]\n"
          ]
        },
        {
          "name": "stdout",
          "output_type": "stream",
          "text": [
            "Epoch 16 Mse:0.291,Rmse:0.539 | val_mse:0.863,val_rmse:0.929\n"
          ]
        },
        {
          "name": "stderr",
          "output_type": "stream",
          "text": [
            "Epoch 17:: 100%|██████████| 900188/900188 [00:32<00:00, 27641.56it/s]\n"
          ]
        },
        {
          "name": "stdout",
          "output_type": "stream",
          "text": [
            "Epoch 17 Mse:0.273,Rmse:0.523 | val_mse:0.884,val_rmse:0.940\n"
          ]
        },
        {
          "name": "stderr",
          "output_type": "stream",
          "text": [
            "Epoch 18:: 100%|██████████| 900188/900188 [00:31<00:00, 28599.53it/s]\n"
          ]
        },
        {
          "name": "stdout",
          "output_type": "stream",
          "text": [
            "Epoch 18 Mse:0.258,Rmse:0.508 | val_mse:0.905,val_rmse:0.951\n"
          ]
        },
        {
          "name": "stderr",
          "output_type": "stream",
          "text": [
            "Epoch 19:: 100%|██████████| 900188/900188 [00:31<00:00, 28681.75it/s]\n"
          ]
        },
        {
          "name": "stdout",
          "output_type": "stream",
          "text": [
            "Epoch 19 Mse:0.245,Rmse:0.495 | val_mse:0.925,val_rmse:0.962\n"
          ]
        }
      ],
      "source": [
        "history = train(20)"
      ]
    },
    {
      "cell_type": "code",
      "execution_count": 22,
      "metadata": {
        "id": "ANYQ0mDT_Tj-"
      },
      "outputs": [
        {
          "name": "stderr",
          "output_type": "stream",
          "text": [
            "No artists with labels found to put in legend.  Note that artists whose label start with an underscore are ignored when legend() is called with no argument.\n",
            "No artists with labels found to put in legend.  Note that artists whose label start with an underscore are ignored when legend() is called with no argument.\n"
          ]
        },
        {
          "data": {
            "image/png": "[encoded data removed]",
            "text/plain": [
              "<Figure size 1440x360 with 2 Axes>"
            ]
          },
          "metadata": {
            "needs_background": "light"
          },
          "output_type": "display_data"
        }
      ],
      "source": [
        "history[\"rmse\"] = np.sqrt(history[\"loss\"])\n",
        "history[\"val_rmse\"] = np.sqrt(history[\"val_loss\"])\n",
        "fig,ax= plt.subplots(1,2,figsize = (20,5))\n",
        "\n",
        "infos = [[\"loss\",\"val_loss\"],[\"rmse\",\"val_rmse\"]]\n",
        "x = np.arange(history.shape[0])\n",
        "\n",
        "for i in range(2):\n",
        "  ax[i].set_title(f\"{infos[i][0]} over epochs\")\n",
        "  ax[i].set_ylabel(f\"{infos[i][0]}\")\n",
        "  ax[i].set_xlabel(f\"epochs\")\n",
        "  ax[i].plot(x,history[infos[i][0]].values,c=\"red\")\n",
        "  ax[i].plot(x,history[infos[i][1]].values,c = \"blue\")\n",
        "  ax[i].legend()\n"
      ]
    }
  ],
  "metadata": {
    "accelerator": "GPU",
    "colab": {
      "gpuType": "T4",
      "provenance": []
    },
    "kernelspec": {
      "display_name": "Python 3",
      "name": "python3"
    },
    "language_info": {
      "codemirror_mode": {
        "name": "ipython",
        "version": 3
      },
      "file_extension": ".py",
      "mimetype": "text/x-python",
      "name": "python",
      "nbconvert_exporter": "python",
      "pygments_lexer": "ipython3",
      "version": "3.9.7"
    }
  },
  "nbformat": 4,
  "nbformat_minor": 0
}
